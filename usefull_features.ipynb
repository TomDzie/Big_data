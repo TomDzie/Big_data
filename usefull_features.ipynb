{
 "cells": [
  {
   "cell_type": "code",
   "execution_count": 1,
   "metadata": {},
   "outputs": [],
   "source": [
    "from sklearn import preprocessing\n",
    "import numpy as np\n",
    "import pandas as pd\n",
    "import random\n",
    "import sklearn\n",
    "from scipy.stats import entropy\n",
    "import matplotlib.pyplot as plt\n",
    "import nolds"
   ]
  },
  {
   "attachments": {},
   "cell_type": "markdown",
   "metadata": {},
   "source": [
    "1. Dla wygenerowanego syntetycznego szeregu czasowego wygeneruj zestaw cech\n",
    "statystycznych, np.: średnia, odchylenie standardowe, wartość maksymalna, wartość\n",
    "minimalna, mediana, kurtosa\n"
   ]
  },
  {
   "cell_type": "code",
   "execution_count": 10,
   "metadata": {},
   "outputs": [
    {
     "name": "stdout",
     "output_type": "stream",
     "text": [
      "Mean= 45.406363636363636\n",
      "standard deviation= 31.216167838894986\n",
      "Maximum= 112.19008264462812\n",
      "Minimum= 1.6198347107438016\n",
      "Median= 39.12396694214877\n",
      "Kurtosis= -0.9214493497652696\n"
     ]
    }
   ],
   "source": [
    "x = np.linspace(1,10, 100)\n",
    "y= x**2\n",
    "s = np.random.randint(0, 20, (100))\n",
    "y = y+s\n",
    "df = pd.DataFrame(y)\n",
    "\n",
    "print(f\"Mean= {df.mean().values[0]}\") # sum(df)/len(df)\n",
    "print(f\"standard deviation= {df.std().values[0]}\") # root(sum((x-Mean)^2...+...)/len(df))\n",
    "print(f\"Maximum= {df.max().values[0]}\") \n",
    "print(f\"Minimum= {df.min().values[0]}\")\n",
    "print(f\"Median= {df.median().values[0]}\")\n",
    "print(f\"Kurtosis= {df.kurtosis().values[0]}\")"
   ]
  },
  {
   "attachments": {},
   "cell_type": "markdown",
   "metadata": {},
   "source": [
    "2. Dla wygenerowanego syntetycznego szeregu czasowego wygeneruj zestaw cech typu:\n",
    "entropia, wymiar fraktalny (ang. fractal dimension), wykładnik Hursta (ang. Hurst exponent)."
   ]
  },
  {
   "cell_type": "code",
   "execution_count": 11,
   "metadata": {},
   "outputs": [
    {
     "name": "stdout",
     "output_type": "stream",
     "text": [
      "Entropy= 4.409041953386086\n",
      "Hurst exponent= 0.7993712414622535\n"
     ]
    }
   ],
   "source": [
    "x = np.linspace(1,10, 100)\n",
    "y= x**2\n",
    "s = np.random.randint(0, 20, (100))\n",
    "y = y+s\n",
    "df = pd.DataFrame(y)\n",
    "print(f\"Entropy= {entropy(df.values)[0]}\") #chaos measurment, measure of disorder or unpredictability\n",
    "print(f\"Hurst exponent= {nolds.hurst_rs(df.values)}\") \n"
   ]
  }
 ],
 "metadata": {
  "kernelspec": {
   "display_name": "Python 3",
   "language": "python",
   "name": "python3"
  },
  "language_info": {
   "codemirror_mode": {
    "name": "ipython",
    "version": 3
   },
   "file_extension": ".py",
   "mimetype": "text/x-python",
   "name": "python",
   "nbconvert_exporter": "python",
   "pygments_lexer": "ipython3",
   "version": "3.10.0"
  },
  "orig_nbformat": 4
 },
 "nbformat": 4,
 "nbformat_minor": 2
}
